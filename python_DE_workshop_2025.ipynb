{
  "cells": [
    {
      "cell_type": "markdown",
      "metadata": {
        "collapsed": false,
        "id": "phoEAg-zV-ka"
      },
      "source": [
        "\n",
        "# Wix DE Python Workshop\n",
        "\n",
        "This session will consist of understanding the fundamentals of python, what makes it unique and how to write better python code\n",
        "We assume that you know the basic syntax of Python :)"
      ]
    },
    {
      "cell_type": "markdown",
      "metadata": {},
      "source": [
        "## Quick Python Basics - Lean & Mean 🚀\n",
        "\n",
        "The absolute essentials in 3 minutes:\n"
      ]
    },
    {
      "cell_type": "markdown",
      "metadata": {},
      "source": []
    },
    {
      "cell_type": "markdown",
      "metadata": {
        "vscode": {
          "languageId": "raw"
        }
      },
      "source": [
        "### 1️⃣ Variables & Types\n"
      ]
    },
    {
      "cell_type": "code",
      "execution_count": 25,
      "metadata": {},
      "outputs": [
        {
          "name": "stdout",
          "output_type": "stream",
          "text": [
            "name: <class 'str'>, age: <class 'int'>\n"
          ]
        }
      ],
      "source": [
        "# Variables - no type declaration needed\n",
        "name = \"Alice\"           # str\n",
        "age = 25                 # int  \n",
        "height = 5.7            # float\n",
        "is_student = True       # bool\n",
        "data = None             # NoneType\n",
        "\n",
        "# Check types\n",
        "print(f\"name: {type(name)}, age: {type(age)}\")\n"
      ]
    },
    {
      "cell_type": "markdown",
      "metadata": {
        "vscode": {
          "languageId": "raw"
        }
      },
      "source": [
        "### 2️⃣ Conditions\n"
      ]
    },
    {
      "cell_type": "code",
      "execution_count": 26,
      "metadata": {},
      "outputs": [
        {
          "name": "stdout",
          "output_type": "stream",
          "text": [
            "Score: 85, Grade: B\n",
            "Status: active\n"
          ]
        }
      ],
      "source": [
        "# Basic if/elif/else\n",
        "score = 85\n",
        "\n",
        "if score >= 90:\n",
        "    grade = \"A\"\n",
        "elif score >= 80:\n",
        "    grade = \"B\"\n",
        "else:\n",
        "    grade = \"C\"\n",
        "\n",
        "print(f\"Score: {score}, Grade: {grade}\")\n",
        "\n",
        "# Quick conditions\n",
        "status = \"active\" if age >= 18 else \"inactive\"\n",
        "print(f\"Status: {status}\")\n"
      ]
    },
    {
      "cell_type": "markdown",
      "metadata": {
        "vscode": {
          "languageId": "raw"
        }
      },
      "source": [
        "### 3️⃣ Loops\n"
      ]
    },
    {
      "cell_type": "code",
      "execution_count": 27,
      "metadata": {},
      "outputs": [
        {
          "name": "stdout",
          "output_type": "stream",
          "text": [
            "Count: 0\n",
            "Count: 1\n",
            "Count: 2\n",
            "While counter: 0\n",
            "While counter: 1\n",
            "While counter: 2\n"
          ]
        }
      ],
      "source": [
        "# Range for numbers\n",
        "for i in range(3):\n",
        "    print(f\"Count: {i}\")\n",
        "\n",
        "# While loops - continue until condition is false\n",
        "counter = 0\n",
        "while counter < 3:\n",
        "    print(f\"While counter: {counter}\")\n",
        "    counter += 1\n"
      ]
    },
    {
      "cell_type": "markdown",
      "metadata": {
        "vscode": {
          "languageId": "raw"
        }
      },
      "source": [
        "---\n",
        "**That's it! You're ready for the main workshop.** 🎯\n"
      ]
    },
    {
      "cell_type": "markdown",
      "metadata": {
        "collapsed": false,
        "id": "ZyKvucPWV-ke"
      },
      "source": [
        "## Bit More on Python\n",
        "### Functions\n",
        "So what is a function?\n",
        "- A function is a *reusable block of code* that groups multiple statements.\n",
        "- Functions can accept *parameters to customize* their behavior.\n",
        "- Functions are a fundamental building block of writing *clean, modular* code.\n",
        "- Later, we’ll expand on this with Object-Oriented Programming (OOP)."
      ]
    },
    {
      "cell_type": "markdown",
      "metadata": {
        "collapsed": false,
        "id": "NmCxm0WXV-kf"
      },
      "source": [
        "### def Statements\n",
        "\n",
        "Let's see how to build out a function's syntax in Python. It has the following form:"
      ]
    },
    {
      "cell_type": "code",
      "execution_count": 28,
      "metadata": {
        "ExecuteTime": {
          "end_time": "2023-08-13T08:50:08.625531Z",
          "start_time": "2023-08-13T08:50:08.117399Z"
        },
        "id": "hAt1j3VsV-kf",
        "pycharm": {
          "name": "#%%\n"
        }
      },
      "outputs": [],
      "source": [
        "def name_of_function(arg1,arg2):\n",
        "    '''\n",
        "    This is where the function's Document String (docstring) goes\n",
        "    '''\n",
        "    # Do stuff here\n",
        "    # Return desired result"
      ]
    },
    {
      "cell_type": "code",
      "execution_count": 30,
      "metadata": {
        "ExecuteTime": {
          "end_time": "2023-08-13T08:50:08.910146Z",
          "start_time": "2023-08-13T08:50:08.122181Z"
        },
        "colab": {
          "base_uri": "https://localhost:8080/",
          "height": 104
        },
        "id": "nqPKN0wFV-kg",
        "outputId": "f6f10abc-b999-41df-ae22-91b395dcdf85",
        "pycharm": {
          "name": "#%%\n"
        }
      },
      "outputs": [
        {
          "data": {
            "text/plain": [
              "<function __main__.name_of_function(arg1, arg2)>"
            ]
          },
          "execution_count": 30,
          "metadata": {},
          "output_type": "execute_result"
        }
      ],
      "source": [
        "name_of_function"
      ]
    },
    {
      "cell_type": "markdown",
      "metadata": {
        "collapsed": false,
        "id": "_t2KLIwNV-kh"
      },
      "source": [
        "### Example 1\n",
        "void function"
      ]
    },
    {
      "cell_type": "code",
      "execution_count": 31,
      "metadata": {
        "ExecuteTime": {
          "end_time": "2023-08-13T08:50:08.914305Z",
          "start_time": "2023-08-13T08:50:08.180825Z"
        },
        "id": "L9KW2U6rV-ki",
        "pycharm": {
          "name": "#%%\n"
        }
      },
      "outputs": [],
      "source": [
        "def say_hello(year=\"2025\"):\n",
        "    print(f'Hello DE students of {year}')"
      ]
    },
    {
      "cell_type": "code",
      "execution_count": 32,
      "metadata": {
        "ExecuteTime": {
          "end_time": "2023-08-13T08:50:08.914543Z",
          "start_time": "2023-08-13T08:50:08.187187Z"
        },
        "colab": {
          "base_uri": "https://localhost:8080/"
        },
        "id": "WoLdpOwUV-ki",
        "outputId": "a3b9d4b2-9f71-43fb-f5d9-479c3d2b9e2d",
        "pycharm": {
          "name": "#%%\n"
        }
      },
      "outputs": [
        {
          "name": "stdout",
          "output_type": "stream",
          "text": [
            "Hello DE students of 2023\n",
            "Hello DE students of 2024\n",
            "Hello DE students of 2025\n"
          ]
        }
      ],
      "source": [
        "say_hello('2023')\n",
        "say_hello(year='2024')\n",
        "say_hello()"
      ]
    },
    {
      "cell_type": "markdown",
      "metadata": {
        "collapsed": false,
        "id": "EEOPMsGiV-kj"
      },
      "source": [
        "### Example 2\n",
        "return value"
      ]
    },
    {
      "cell_type": "code",
      "execution_count": 33,
      "metadata": {
        "ExecuteTime": {
          "end_time": "2023-08-13T08:50:08.948842Z",
          "start_time": "2023-08-13T08:50:08.199391Z"
        },
        "id": "5NKxQ6dqV-kj",
        "pycharm": {
          "name": "#%%\n"
        }
      },
      "outputs": [],
      "source": [
        "def squared_sum(num1,num2):\n",
        "    return (num1+num2)**2"
      ]
    },
    {
      "cell_type": "code",
      "execution_count": 34,
      "metadata": {
        "ExecuteTime": {
          "end_time": "2023-08-13T08:50:08.949269Z",
          "start_time": "2023-08-13T08:50:08.205547Z"
        },
        "colab": {
          "base_uri": "https://localhost:8080/"
        },
        "id": "Qr_ArssUV-kk",
        "outputId": "200e6f23-1e73-41ae-cdf8-d7e75850d4f0",
        "pycharm": {
          "name": "#%%\n"
        }
      },
      "outputs": [
        {
          "data": {
            "text/plain": [
              "25"
            ]
          },
          "execution_count": 34,
          "metadata": {},
          "output_type": "execute_result"
        }
      ],
      "source": [
        "squared_sum(2,3)"
      ]
    },
    {
      "cell_type": "markdown",
      "metadata": {
        "collapsed": false,
        "id": "G5kQ0A2hV-kk"
      },
      "source": [
        "\n",
        "### Usage of *args\n",
        "- Many new Python programmers find *args and **kwargs confusing.\n",
        "- These are \"magic variables\" used in function definitions.\n",
        "- It is not necessary to use the names *args or **kwargs; only the * (asterisk) is required.\n",
        "- You could use any names, such as *var and **vars, but *args and **kwargs are the common convention.\n",
        "- *args allows you to pass a variable number of non-keyworded arguments to a function.\n",
        "- **kwargs allows you to pass a variable number of keyworded arguments to a function.\n",
        "- These are useful when you do not know beforehand how many arguments will be passed to your function.\n",
        "- Example usage is shown below.\n",
        "\n"
      ]
    },
    {
      "cell_type": "code",
      "execution_count": 35,
      "metadata": {
        "ExecuteTime": {
          "end_time": "2023-08-13T08:50:08.951644Z",
          "start_time": "2023-08-13T08:50:08.220763Z"
        },
        "colab": {
          "base_uri": "https://localhost:8080/"
        },
        "id": "W1v8EoXlV-kl",
        "outputId": "42d38f27-8e48-4f91-a8c7-a6967632ed3a",
        "pycharm": {
          "name": "#%%\n"
        }
      },
      "outputs": [
        {
          "name": "stdout",
          "output_type": "stream",
          "text": [
            "first normal arg: normal arg\n",
            "another arg through *argv: python\n",
            "another arg through *argv: is\n",
            "another arg through *argv: fun\n"
          ]
        }
      ],
      "source": [
        "def test_var_args(f_arg, *argv):\n",
        "    print(\"first normal arg:\", f_arg)\n",
        "    for arg in argv:\n",
        "        print(\"another arg through *argv:\", arg)\n",
        "\n",
        "test_var_args('normal arg', 'python', 'is', 'fun')"
      ]
    },
    {
      "cell_type": "markdown",
      "metadata": {
        "collapsed": false,
        "id": "wMpm5V3_V-kl"
      },
      "source": [
        "### Usage of **kwargs\n",
        "**kwargs allows you to pass keyworded variable length of arguments to a function. You should use **kwargs if you want to handle named arguments in a function. Here is an example to get you going with it:"
      ]
    },
    {
      "cell_type": "code",
      "execution_count": 36,
      "metadata": {
        "ExecuteTime": {
          "end_time": "2023-08-13T08:50:08.962103Z",
          "start_time": "2023-08-13T08:50:08.301094Z"
        },
        "colab": {
          "base_uri": "https://localhost:8080/"
        },
        "id": "qumJ_K4hV-km",
        "outputId": "b42be9ee-b7c9-4257-f84e-66cc99b194c1",
        "pycharm": {
          "name": "#%%\n"
        }
      },
      "outputs": [
        {
          "name": "stdout",
          "output_type": "stream",
          "text": [
            "name = keyword args\n",
            "age = 20\n",
            "eye_color = brown\n"
          ]
        }
      ],
      "source": [
        "def greet_me(**kwargs):\n",
        "    for key, value in kwargs.items():\n",
        "        print(\"{0} = {1}\".format(key, value))\n",
        "\n",
        "# greet_me(name=\"keyword args\",age=20,eye_color='brown')\n",
        "dict_ = dict(name=\"keyword args\",age=20,eye_color='brown')\n",
        "\n",
        "greet_me(**dict_)\n"
      ]
    },
    {
      "cell_type": "markdown",
      "metadata": {
        "collapsed": false,
        "id": "CuTJHWwXV-km"
      },
      "source": [
        "#### When to use them?\n",
        "- It really depends on what your requirements are.\n",
        "- The most common use case is when making function decorators (discussed in another session).\n",
        "- They can also be used in monkey patching.\n",
        "  - Monkey patching means modifying some code at runtime.\n",
        "  - For example, consider a class with a function called `get_info` which calls an API and returns the response data.\n",
        "  - If we want to test it, we can replace the API call with some test data."
      ]
    },
    {
      "cell_type": "markdown",
      "metadata": {
        "collapsed": false,
        "id": "wA7jnUgxV-km"
      },
      "source": [
        "## The Python standard library\n",
        "[documentation](https://docs.python.org/3/tutorial/datastructures.html)\n",
        "\n",
        "### Built in types\n",
        "\n"
      ]
    },
    {
      "cell_type": "markdown",
      "metadata": {},
      "source": [
        "| Data Structure       | Ordered | Mutable | Unique Elements                     | Description                                                                 |\n",
        "|----------------------|---------|---------|-------------------------------------|-----------------------------------------------------------------------------|\n",
        "| List                 | Yes     | Yes     | No                                  | A sequence of elements that can be changed after creation and can contain duplicates. |\n",
        "| Tuple                | Yes     | No      | No                                  | An immutable sequence of elements. Once created, its contents cannot be changed. It can contain duplicate values. |\n",
        "| Dictionary (Dict)    | Yes*    | Yes     | Keys must be unique; Values can be duplicates. | Stores data in key-value pairs. Keys are unique and are used to access the values. |\n",
        "| Set                  | No      | Yes     | Yes                                 | An unordered collection of unique elements. Duplicates are automatically removed. |\n"
      ]
    },
    {
      "cell_type": "markdown",
      "metadata": {},
      "source": [
        "### Lists"
      ]
    },
    {
      "cell_type": "code",
      "execution_count": 37,
      "metadata": {
        "ExecuteTime": {
          "end_time": "2023-08-13T08:50:08.986349Z",
          "start_time": "2023-08-13T08:50:08.336685Z"
        },
        "colab": {
          "base_uri": "https://localhost:8080/"
        },
        "id": "ubtTP3uJV-kn",
        "outputId": "285adbb3-9221-43f9-bc3e-cffe5c777480",
        "pycharm": {
          "name": "#%%\n"
        }
      },
      "outputs": [
        {
          "name": "stdout",
          "output_type": "stream",
          "text": [
            "['Pikachu', 'Eevee', 'Snorlax', 'Charizard', 'Pikachu']\n"
          ]
        }
      ],
      "source": [
        "pokemon_list = ['Pikachu','Eevee','Snorlax','Charizard','Pikachu']\n",
        "print(pokemon_list)"
      ]
    },
    {
      "cell_type": "code",
      "execution_count": 38,
      "metadata": {
        "ExecuteTime": {
          "end_time": "2023-08-13T08:50:08.986666Z",
          "start_time": "2023-08-13T08:50:08.343696Z"
        },
        "colab": {
          "base_uri": "https://localhost:8080/"
        },
        "id": "BO95_AOlV-kn",
        "outputId": "80faf802-d933-4a09-b4ff-b868b4e6d253",
        "pycharm": {
          "name": "#%%\n"
        }
      },
      "outputs": [
        {
          "name": "stdout",
          "output_type": "stream",
          "text": [
            "Pikachu\n"
          ]
        }
      ],
      "source": [
        "#getting specific element\n",
        "print(pokemon_list[0])"
      ]
    },
    {
      "cell_type": "code",
      "execution_count": 39,
      "metadata": {
        "ExecuteTime": {
          "end_time": "2023-08-13T08:50:09.020543Z",
          "start_time": "2023-08-13T08:50:08.350114Z"
        },
        "colab": {
          "base_uri": "https://localhost:8080/"
        },
        "id": "VivsFPBuV-kn",
        "outputId": "19fa440c-8de3-4b0f-cfa1-e403b3927c67",
        "pycharm": {
          "name": "#%%\n"
        }
      },
      "outputs": [
        {
          "name": "stdout",
          "output_type": "stream",
          "text": [
            "['Pikachu', 'Eevee', 'Snorlax', 'Charizard', 'Pikachu', 'Ditto']\n"
          ]
        }
      ],
      "source": [
        "#adding element\n",
        "pokemon_list.append(('Ditto'))\n",
        "print(pokemon_list)"
      ]
    },
    {
      "cell_type": "code",
      "execution_count": 40,
      "metadata": {
        "ExecuteTime": {
          "end_time": "2023-08-13T08:50:09.020766Z",
          "start_time": "2023-08-13T08:50:08.363679Z"
        },
        "colab": {
          "base_uri": "https://localhost:8080/"
        },
        "id": "x3TakcpJV-ko",
        "outputId": "07945322-a3a1-4d72-a5f9-61f4970f7ebd",
        "pycharm": {
          "name": "#%%\n"
        }
      },
      "outputs": [
        {
          "name": "stdout",
          "output_type": "stream",
          "text": [
            "None\n",
            "['Pikachu', 'Snorlax', 'Charizard', 'Pikachu', 'Ditto']\n"
          ]
        }
      ],
      "source": [
        "#removing element\n",
        "pokemon = pokemon_list.remove('Eevee')\n",
        "print(pokemon)\n",
        "print(pokemon_list)"
      ]
    },
    {
      "cell_type": "code",
      "execution_count": 41,
      "metadata": {
        "ExecuteTime": {
          "end_time": "2023-08-13T08:50:09.027205Z",
          "start_time": "2023-08-13T08:50:08.377915Z"
        },
        "colab": {
          "base_uri": "https://localhost:8080/"
        },
        "id": "UBF8OyWQjaUT",
        "outputId": "ff18f79f-66dd-4b9c-8f24-20c8ad9c632c"
      },
      "outputs": [
        {
          "name": "stdout",
          "output_type": "stream",
          "text": [
            "Ditto\n",
            "['Pikachu', 'Snorlax', 'Charizard', 'Pikachu']\n",
            "Charizard\n",
            "['Pikachu', 'Snorlax', 'Pikachu']\n"
          ]
        }
      ],
      "source": [
        "#popping element\n",
        "pokemon = pokemon_list.pop()\n",
        "print(pokemon)\n",
        "print(pokemon_list)\n",
        "#popping element\n",
        "pokemon = pokemon_list.pop(2)\n",
        "print(pokemon)\n",
        "print(pokemon_list)"
      ]
    },
    {
      "cell_type": "code",
      "execution_count": 42,
      "metadata": {
        "ExecuteTime": {
          "end_time": "2023-08-13T08:50:09.027600Z",
          "start_time": "2023-08-13T08:50:08.385559Z"
        },
        "colab": {
          "base_uri": "https://localhost:8080/"
        },
        "id": "BlOeNeHzV-ko",
        "outputId": "d058d635-5bcd-489c-d731-c5985581cbae",
        "pycharm": {
          "name": "#%%\n"
        }
      },
      "outputs": [
        {
          "name": "stdout",
          "output_type": "stream",
          "text": [
            "the best pokemon is Pikachu\n",
            "the best pokemon is Eevee\n",
            "the best pokemon is Snorlax\n",
            "the best pokemon is Charizard\n"
          ]
        }
      ],
      "source": [
        "# rest list\n",
        "pokemon_list = ['Pikachu','Eevee','Snorlax','Charizard']\n",
        "#iteratig over\n",
        "for pokemon in pokemon_list:\n",
        "    print(f\"the best pokemon is {pokemon}\")"
      ]
    },
    {
      "cell_type": "code",
      "execution_count": 43,
      "metadata": {
        "ExecuteTime": {
          "end_time": "2023-08-13T08:50:09.027806Z",
          "start_time": "2023-08-13T08:50:08.390921Z"
        },
        "colab": {
          "base_uri": "https://localhost:8080/"
        },
        "id": "zGWy7b4gV-ko",
        "outputId": "6efed978-9b13-4cc3-ee15-225fefd94972",
        "pycharm": {
          "name": "#%%\n"
        }
      },
      "outputs": [
        {
          "name": "stdout",
          "output_type": "stream",
          "text": [
            "the best pokemon is Pikachu\n",
            "the best pokemon is Eevee\n",
            "the best pokemon is Snorlax\n",
            "the best pokemon is Charizard\n"
          ]
        }
      ],
      "source": [
        "#iteratig over in one line\n",
        "print(\"\\n\".join([f\"the best pokemon is {pokemon}\" for pokemon in pokemon_list]))"
      ]
    },
    {
      "cell_type": "markdown",
      "metadata": {
        "collapsed": false,
        "id": "MZsMuMlIV-ko"
      },
      "source": [
        "### dict"
      ]
    },
    {
      "cell_type": "code",
      "execution_count": 44,
      "metadata": {
        "ExecuteTime": {
          "end_time": "2023-08-13T08:50:09.041960Z",
          "start_time": "2023-08-13T08:50:08.396933Z"
        },
        "colab": {
          "base_uri": "https://localhost:8080/"
        },
        "id": "s_m-EGkYV-kp",
        "outputId": "fe4fb00a-f8df-4276-a347-7fde4e73bcb4",
        "pycharm": {
          "name": "#%%\n"
        }
      },
      "outputs": [
        {
          "data": {
            "text/plain": [
              "{'Pikachu': 70, 'Eevee': 30, 'Snorlax': 20, 'Charizard': 10}"
            ]
          },
          "execution_count": 44,
          "metadata": {},
          "output_type": "execute_result"
        }
      ],
      "source": [
        "pokemon_levels = {'Pikachu':70,'Eevee':30,'Snorlax':20,'Charizard':10}\n",
        "pokemon_levels"
      ]
    },
    {
      "cell_type": "code",
      "execution_count": 45,
      "metadata": {
        "ExecuteTime": {
          "end_time": "2023-08-13T08:50:09.042250Z",
          "start_time": "2023-08-13T08:50:08.401571Z"
        },
        "colab": {
          "base_uri": "https://localhost:8080/"
        },
        "id": "_z1-_P6nV-kp",
        "outputId": "d8be57f5-0a9b-4828-ba67-e31cb745555c",
        "pycharm": {
          "name": "#%%\n"
        }
      },
      "outputs": [
        {
          "data": {
            "text/plain": [
              "70"
            ]
          },
          "execution_count": 45,
          "metadata": {},
          "output_type": "execute_result"
        }
      ],
      "source": [
        "#getting specific element\n",
        "pokemon_levels['Pikachu']"
      ]
    },
    {
      "cell_type": "code",
      "execution_count": 46,
      "metadata": {
        "ExecuteTime": {
          "end_time": "2023-08-13T08:50:09.042464Z",
          "start_time": "2023-08-13T08:50:08.406086Z"
        },
        "colab": {
          "base_uri": "https://localhost:8080/",
          "height": 180
        },
        "id": "XvzqJ5JlV-kp",
        "outputId": "79e0c79a-dc56-4363-a2fb-e1cde40f0bce",
        "pycharm": {
          "name": "#%%\n"
        }
      },
      "outputs": [
        {
          "ename": "KeyError",
          "evalue": "'Mewtwo'",
          "output_type": "error",
          "traceback": [
            "\u001b[0;31m---------------------------------------------------------------------------\u001b[0m",
            "\u001b[0;31mKeyError\u001b[0m                                  Traceback (most recent call last)",
            "Cell \u001b[0;32mIn[46], line 2\u001b[0m\n\u001b[1;32m      1\u001b[0m \u001b[38;5;66;03m#trying to get a non-existing element\u001b[39;00m\n\u001b[0;32m----> 2\u001b[0m level \u001b[38;5;241m=\u001b[39m \u001b[43mpokemon_levels\u001b[49m\u001b[43m[\u001b[49m\u001b[38;5;124;43m'\u001b[39;49m\u001b[38;5;124;43mMewtwo\u001b[39;49m\u001b[38;5;124;43m'\u001b[39;49m\u001b[43m]\u001b[49m\n\u001b[1;32m      3\u001b[0m level\n",
            "\u001b[0;31mKeyError\u001b[0m: 'Mewtwo'"
          ]
        }
      ],
      "source": [
        "#trying to get a non-existing element\n",
        "level = pokemon_levels['Mewtwo']\n",
        "level\n"
      ]
    },
    {
      "cell_type": "code",
      "execution_count": 47,
      "metadata": {
        "ExecuteTime": {
          "start_time": "2023-08-13T08:50:08.428355Z"
        },
        "colab": {
          "base_uri": "https://localhost:8080/"
        },
        "id": "kGoRsetoV-kp",
        "outputId": "e4a84311-28b5-4604-e8af-c2ae3731b8f4",
        "pycharm": {
          "name": "#%%\n"
        }
      },
      "outputs": [
        {
          "name": "stdout",
          "output_type": "stream",
          "text": [
            "None\n"
          ]
        }
      ],
      "source": [
        "#trying to get a non-existing element\n",
        "level = pokemon_levels.get('Mewtwo')\n",
        "print(level)\n"
      ]
    },
    {
      "cell_type": "code",
      "execution_count": 48,
      "metadata": {
        "ExecuteTime": {
          "start_time": "2023-08-13T08:50:08.431435Z"
        },
        "colab": {
          "base_uri": "https://localhost:8080/"
        },
        "id": "X7u-YAd7jaUX",
        "outputId": "67ad99af-0c33-4bfe-c6f8-67ee7f167830"
      },
      "outputs": [
        {
          "data": {
            "text/plain": [
              "0"
            ]
          },
          "execution_count": 48,
          "metadata": {},
          "output_type": "execute_result"
        }
      ],
      "source": [
        "\n",
        "#trying to get a non-existing element with default value\n",
        "level = pokemon_levels.get('Mewtwo',0)\n",
        "level"
      ]
    },
    {
      "cell_type": "code",
      "execution_count": 49,
      "metadata": {
        "ExecuteTime": {
          "start_time": "2023-08-13T08:50:08.436061Z"
        },
        "id": "S7LdjxePV-kq",
        "pycharm": {
          "name": "#%%\n"
        }
      },
      "outputs": [],
      "source": [
        "#updating element\n",
        "pokemon_levels['Charmander'] = 1"
      ]
    },
    {
      "cell_type": "code",
      "execution_count": 50,
      "metadata": {
        "ExecuteTime": {
          "start_time": "2023-08-13T08:50:08.439742Z"
        },
        "colab": {
          "base_uri": "https://localhost:8080/"
        },
        "id": "qbOhHSorV-kq",
        "outputId": "2d848b7a-b422-400f-8c16-3bde55325a64",
        "pycharm": {
          "name": "#%%\n"
        }
      },
      "outputs": [
        {
          "data": {
            "text/plain": [
              "20"
            ]
          },
          "execution_count": 50,
          "metadata": {},
          "output_type": "execute_result"
        }
      ],
      "source": [
        "# remove from dict\n",
        "pokemon_levels.pop('Snorlax')"
      ]
    },
    {
      "cell_type": "code",
      "execution_count": 51,
      "metadata": {
        "ExecuteTime": {
          "start_time": "2023-08-13T08:50:08.442870Z"
        },
        "colab": {
          "base_uri": "https://localhost:8080/"
        },
        "id": "5i4O02OlV-kq",
        "outputId": "9be44d01-fc6c-440c-d465-e3fbf40e7fea",
        "pycharm": {
          "name": "#%%\n"
        }
      },
      "outputs": [
        {
          "name": "stdout",
          "output_type": "stream",
          "text": [
            "True\n",
            "False\n"
          ]
        }
      ],
      "source": [
        "# check if key in dict\n",
        "print('Charmander' in pokemon_levels)\n",
        "print('Mewtwo' in pokemon_levels)"
      ]
    },
    {
      "cell_type": "code",
      "execution_count": 52,
      "metadata": {
        "ExecuteTime": {
          "start_time": "2023-08-13T08:50:08.445471Z"
        },
        "colab": {
          "base_uri": "https://localhost:8080/"
        },
        "id": "3ng-QbHNV-kq",
        "outputId": "4a855ec0-1b2f-425e-a5e0-b0dc0666d98b",
        "pycharm": {
          "name": "#%%\n"
        }
      },
      "outputs": [
        {
          "data": {
            "text/plain": [
              "{'Pikachu': 70, 'Eevee': 30}"
            ]
          },
          "execution_count": 52,
          "metadata": {},
          "output_type": "execute_result"
        }
      ],
      "source": [
        "#iterating over a dict\n",
        "strong_pokemon = {key:value for (key, value) in pokemon_levels.items() if value >= 30}\n",
        "strong_pokemon\n"
      ]
    },
    {
      "cell_type": "markdown",
      "metadata": {
        "collapsed": false,
        "id": "GAINw4LwV-kq"
      },
      "source": [
        "### tuple and set"
      ]
    },
    {
      "cell_type": "code",
      "execution_count": 53,
      "metadata": {
        "ExecuteTime": {
          "start_time": "2023-08-13T08:50:08.447746Z"
        },
        "id": "SjFgO3bTV-kq",
        "pycharm": {
          "name": "#%%\n"
        }
      },
      "outputs": [],
      "source": [
        "# definition of tuple\n",
        "pokemon_tuple = ('Pikachu','Eevee','Snorlax','Charizard','Pikachu')"
      ]
    },
    {
      "cell_type": "code",
      "execution_count": 54,
      "metadata": {
        "ExecuteTime": {
          "start_time": "2023-08-13T08:50:08.451099Z"
        },
        "colab": {
          "base_uri": "https://localhost:8080/",
          "height": 35
        },
        "id": "BMStP-CYV-kr",
        "outputId": "f20b358e-f0ea-4eea-b602-678dd78e584c",
        "pycharm": {
          "name": "#%%\n"
        }
      },
      "outputs": [
        {
          "ename": "TypeError",
          "evalue": "'tuple' object does not support item assignment",
          "output_type": "error",
          "traceback": [
            "\u001b[0;31m---------------------------------------------------------------------------\u001b[0m",
            "\u001b[0;31mTypeError\u001b[0m                                 Traceback (most recent call last)",
            "Cell \u001b[0;32mIn[54], line 2\u001b[0m\n\u001b[1;32m      1\u001b[0m pokemon_tuple[\u001b[38;5;241m0\u001b[39m]\n\u001b[0;32m----> 2\u001b[0m \u001b[43mpokemon_tuple\u001b[49m\u001b[43m[\u001b[49m\u001b[38;5;241;43m0\u001b[39;49m\u001b[43m]\u001b[49m \u001b[38;5;241m=\u001b[39m \u001b[38;5;124m'\u001b[39m\u001b[38;5;124mMewtwo\u001b[39m\u001b[38;5;124m'\u001b[39m\n",
            "\u001b[0;31mTypeError\u001b[0m: 'tuple' object does not support item assignment"
          ]
        }
      ],
      "source": [
        "pokemon_tuple[0]\n",
        "pokemon_tuple[0] = 'Mewtwo'\n"
      ]
    },
    {
      "cell_type": "code",
      "execution_count": 55,
      "metadata": {
        "ExecuteTime": {
          "start_time": "2023-08-13T08:50:08.453380Z"
        },
        "colab": {
          "base_uri": "https://localhost:8080/"
        },
        "id": "ZxWkJUagV-kr",
        "outputId": "2ff6398d-8279-4e68-d9f0-6154ddfcad56",
        "pycharm": {
          "name": "#%%\n"
        }
      },
      "outputs": [
        {
          "data": {
            "text/plain": [
              "{'Charizard', 'Eevee', 'Pikachu', 'Snorlax'}"
            ]
          },
          "execution_count": 55,
          "metadata": {},
          "output_type": "execute_result"
        }
      ],
      "source": [
        "# definition of set\n",
        "pokemon_set = {'Pikachu','Eevee','Snorlax','Charizard','Pikachu'}\n",
        "pokemon_set"
      ]
    },
    {
      "cell_type": "markdown",
      "metadata": {
        "collapsed": false,
        "id": "2k8wm4kDV-kr"
      },
      "source": [
        "### lambda expressions\n"
      ]
    },
    {
      "cell_type": "code",
      "execution_count": 56,
      "metadata": {
        "ExecuteTime": {
          "start_time": "2023-08-13T08:50:08.455991Z"
        },
        "id": "Fc3Jp9H2V-kr",
        "pycharm": {
          "name": "#%%\n"
        }
      },
      "outputs": [],
      "source": [
        "def times2(var):\n",
        "    return var*2"
      ]
    },
    {
      "cell_type": "code",
      "execution_count": 57,
      "metadata": {
        "ExecuteTime": {
          "start_time": "2023-08-13T08:50:08.459185Z"
        },
        "colab": {
          "base_uri": "https://localhost:8080/"
        },
        "id": "x94-ON6IV-k1",
        "outputId": "02158f99-15b0-4472-97ea-126503f50d54",
        "pycharm": {
          "name": "#%%\n"
        }
      },
      "outputs": [
        {
          "data": {
            "text/plain": [
              "4"
            ]
          },
          "execution_count": 57,
          "metadata": {},
          "output_type": "execute_result"
        }
      ],
      "source": [
        "times2(2)"
      ]
    },
    {
      "cell_type": "code",
      "execution_count": 58,
      "metadata": {
        "ExecuteTime": {
          "start_time": "2023-08-13T08:50:08.461612Z"
        },
        "colab": {
          "base_uri": "https://localhost:8080/"
        },
        "id": "bDnADCdJV-k1",
        "outputId": "358e0cc6-4750-42c4-93ef-7514e3554151",
        "pycharm": {
          "name": "#%%\n"
        }
      },
      "outputs": [],
      "source": [
        "times2_lambda = lambda var: var * 2"
      ]
    },
    {
      "cell_type": "code",
      "execution_count": 59,
      "metadata": {},
      "outputs": [
        {
          "data": {
            "text/plain": [
              "4"
            ]
          },
          "execution_count": 59,
          "metadata": {},
          "output_type": "execute_result"
        }
      ],
      "source": [
        "times2_lambda(2)"
      ]
    },
    {
      "cell_type": "markdown",
      "metadata": {
        "collapsed": false,
        "id": "uorNuqY-V-k1"
      },
      "source": [
        "### built in function\n"
      ]
    },
    {
      "cell_type": "markdown",
      "metadata": {
        "collapsed": false,
        "id": "AXchK0bCV-k2"
      },
      "source": [
        "#### enumerate"
      ]
    },
    {
      "cell_type": "code",
      "execution_count": 60,
      "metadata": {
        "ExecuteTime": {
          "start_time": "2023-08-13T08:50:08.463821Z"
        },
        "colab": {
          "base_uri": "https://localhost:8080/"
        },
        "id": "Hj5k9VopV-k2",
        "outputId": "5bfc737f-879a-4cb0-d00e-979cdf61e253",
        "pycharm": {
          "name": "#%%\n"
        }
      },
      "outputs": [
        {
          "name": "stdout",
          "output_type": "stream",
          "text": [
            "[(0, 'a'), (1, 'b'), (2, 'c'), (3, 'd')]\n",
            "index = 0, value= a\n",
            "index = 1, value= b\n",
            "index = 2, value= c\n",
            "index = 3, value= d\n"
          ]
        }
      ],
      "source": [
        "letters = ['a', 'b', 'c', 'd' ]\n",
        "indexed_letters = enumerate(letters)\n",
        "indexed_letters_list = list(indexed_letters)\n",
        "print(indexed_letters_list)\n",
        "\n",
        "for index,value in enumerate(letters):\n",
        "  print(f\"index = {index}, value= {value}\")"
      ]
    },
    {
      "cell_type": "markdown",
      "metadata": {
        "collapsed": false,
        "id": "UhvLG_WEV-k2"
      },
      "source": [
        "### map"
      ]
    },
    {
      "cell_type": "code",
      "execution_count": 62,
      "metadata": {
        "ExecuteTime": {
          "end_time": "2023-08-13T08:50:09.056742Z",
          "start_time": "2023-08-13T08:50:08.466883Z"
        },
        "colab": {
          "base_uri": "https://localhost:8080/"
        },
        "id": "CBnU5NXvV-k2",
        "outputId": "fef83efc-adbb-44b3-eb07-78caf9df5f79",
        "pycharm": {
          "name": "#%%\n"
        }
      },
      "outputs": [
        {
          "name": "stdout",
          "output_type": "stream",
          "text": [
            "[2, 2, 3, 5, 5]\n"
          ]
        }
      ],
      "source": [
        "nums = [1.5, 2.3, 3.4, 4.6, 5.0]\n",
        "rnd_nums = map(round, nums)\n",
        "print(list(rnd_nums))"
      ]
    },
    {
      "cell_type": "code",
      "execution_count": 63,
      "metadata": {
        "ExecuteTime": {
          "end_time": "2023-08-13T08:50:09.060761Z",
          "start_time": "2023-08-13T08:50:08.471910Z"
        },
        "colab": {
          "base_uri": "https://localhost:8080/"
        },
        "id": "0TZdXbNhV-k2",
        "outputId": "b0556c53-5af7-47bd-d4b3-f59bdf3f6533",
        "pycharm": {
          "name": "#%%\n"
        }
      },
      "outputs": [
        {
          "name": "stdout",
          "output_type": "stream",
          "text": [
            "[1, 4, 9, 16, 25]\n"
          ]
        }
      ],
      "source": [
        "nums = [1, 2, 3, 4, 5]\n",
        "sqrd_nums = map(lambda x: x ** 2, nums)\n",
        "print(list(sqrd_nums))"
      ]
    },
    {
      "cell_type": "markdown",
      "metadata": {
        "collapsed": false,
        "id": "as868XgoV-k3",
        "pycharm": {
          "name": "#%% md\n"
        }
      },
      "source": [
        "### filter"
      ]
    },
    {
      "cell_type": "code",
      "execution_count": 64,
      "metadata": {
        "ExecuteTime": {
          "end_time": "2023-08-13T08:50:09.061141Z",
          "start_time": "2023-08-13T08:50:08.476393Z"
        },
        "colab": {
          "base_uri": "https://localhost:8080/"
        },
        "id": "9w0zGx8SV-k3",
        "outputId": "670f012f-dd05-4225-d4ff-f550553ae427",
        "pycharm": {
          "name": "#%%\n"
        }
      },
      "outputs": [
        {
          "data": {
            "text/plain": [
              "<filter at 0x106f64340>"
            ]
          },
          "execution_count": 64,
          "metadata": {},
          "output_type": "execute_result"
        }
      ],
      "source": [
        "filter(lambda item: item%2 == 0,nums)"
      ]
    },
    {
      "cell_type": "code",
      "execution_count": 65,
      "metadata": {
        "ExecuteTime": {
          "end_time": "2023-08-13T08:50:09.071252Z",
          "start_time": "2023-08-13T08:50:08.481235Z"
        },
        "colab": {
          "base_uri": "https://localhost:8080/"
        },
        "id": "Ux7Ra90IV-k3",
        "outputId": "80272248-8cd1-4c77-9229-bec7f2b76cd6",
        "pycharm": {
          "name": "#%%\n"
        }
      },
      "outputs": [
        {
          "data": {
            "text/plain": [
              "[2, 4]"
            ]
          },
          "execution_count": 65,
          "metadata": {},
          "output_type": "execute_result"
        }
      ],
      "source": [
        "list(filter(lambda item: item%2 == 0,nums))"
      ]
    },
    {
      "cell_type": "markdown",
      "metadata": {
        "collapsed": false,
        "id": "BhpJNEA6V-k3"
      },
      "source": [
        "## Writing efficient code\n",
        "#### zen of python"
      ]
    },
    {
      "cell_type": "code",
      "execution_count": 66,
      "metadata": {
        "ExecuteTime": {
          "end_time": "2023-08-13T08:50:09.071443Z",
          "start_time": "2023-08-13T08:50:08.489122Z"
        },
        "colab": {
          "base_uri": "https://localhost:8080/"
        },
        "id": "5l0mdzLPV-k4",
        "outputId": "2c824eb5-869e-4eb2-97be-09e283cfc22d",
        "pycharm": {
          "name": "#%%\n"
        }
      },
      "outputs": [
        {
          "name": "stdout",
          "output_type": "stream",
          "text": [
            "The Zen of Python, by Tim Peters\n",
            "\n",
            "Beautiful is better than ugly.\n",
            "Explicit is better than implicit.\n",
            "Simple is better than complex.\n",
            "Complex is better than complicated.\n",
            "Flat is better than nested.\n",
            "Sparse is better than dense.\n",
            "Readability counts.\n",
            "Special cases aren't special enough to break the rules.\n",
            "Although practicality beats purity.\n",
            "Errors should never pass silently.\n",
            "Unless explicitly silenced.\n",
            "In the face of ambiguity, refuse the temptation to guess.\n",
            "There should be one-- and preferably only one --obvious way to do it.\n",
            "Although that way may not be obvious at first unless you're Dutch.\n",
            "Now is better than never.\n",
            "Although never is often better than *right* now.\n",
            "If the implementation is hard to explain, it's a bad idea.\n",
            "If the implementation is easy to explain, it may be a good idea.\n",
            "Namespaces are one honking great idea -- let's do more of those!\n"
          ]
        }
      ],
      "source": [
        "import this"
      ]
    },
    {
      "cell_type": "markdown",
      "metadata": {
        "collapsed": false,
        "id": "m9cqtdoVV-k4"
      },
      "source": [
        "### list comprehension"
      ]
    },
    {
      "cell_type": "code",
      "execution_count": null,
      "metadata": {
        "ExecuteTime": {
          "end_time": "2023-08-13T08:50:09.084451Z",
          "start_time": "2023-08-13T08:50:08.505718Z"
        },
        "id": "ZL6wUwgUV-k4",
        "pycharm": {
          "name": "#%%\n"
        }
      },
      "outputs": [],
      "source": [
        "x = [1,2,3,4]"
      ]
    },
    {
      "cell_type": "code",
      "execution_count": null,
      "metadata": {
        "ExecuteTime": {
          "end_time": "2023-08-13T08:50:09.084777Z",
          "start_time": "2023-08-13T08:50:08.511216Z"
        },
        "colab": {
          "base_uri": "https://localhost:8080/"
        },
        "id": "jb3DA_MdV-k4",
        "outputId": "5f89bcd2-655f-4d81-b2d3-086b9782fb28",
        "pycharm": {
          "name": "#%%\n"
        }
      },
      "outputs": [],
      "source": [
        "out = []\n",
        "for item in x:\n",
        "    out.append(item**2)\n",
        "print(out)"
      ]
    },
    {
      "cell_type": "code",
      "execution_count": null,
      "metadata": {
        "ExecuteTime": {
          "end_time": "2023-08-13T08:50:09.088893Z",
          "start_time": "2023-08-13T08:50:08.514969Z"
        },
        "colab": {
          "base_uri": "https://localhost:8080/"
        },
        "id": "iA0woSxtV-k4",
        "outputId": "2cb8ef64-0a29-4bd4-d6f6-3aabe35897c6",
        "pycharm": {
          "name": "#%%\n"
        }
      },
      "outputs": [],
      "source": [
        "[item**2 for item in x]"
      ]
    },
    {
      "cell_type": "markdown",
      "metadata": {
        "collapsed": false,
        "id": "foUNdbCmV-k5"
      },
      "source": [
        "## OOP - Object Oriented Programing\n"
      ]
    },
    {
      "cell_type": "code",
      "execution_count": 67,
      "metadata": {
        "ExecuteTime": {
          "end_time": "2023-08-13T08:50:09.089076Z",
          "start_time": "2023-08-13T08:50:08.528147Z"
        },
        "id": "MO1QUJrtV-k5",
        "pycharm": {
          "name": "#%%\n"
        }
      },
      "outputs": [],
      "source": [
        "from dataclasses import dataclass\n",
        "@dataclass\n",
        "class BaseStats:\n",
        "    hp: int\n",
        "    attack: int\n",
        "    defense: int\n",
        "    speed: int\n",
        "\n",
        "\n",
        "class Pokemon:\n",
        "    dex: int\n",
        "    name: str\n",
        "    height: int\n",
        "    weight: int\n",
        "    base_experience: int\n",
        "    base_stats: BaseStats\n",
        "\n",
        "    def __init__(self, json_data) -> None:\n",
        "        \"\"\"Loads and stores required pokemon data\"\"\"\n",
        "        self.dex = json_data[\"id\"]\n",
        "        for pokemon_info in [\"name\", \"height\", \"weight\", \"base_experience\"]:\n",
        "                setattr(self, pokemon_info, json_data[pokemon_info])\n",
        "        stat_dict = {}\n",
        "        for stat_name,stat_value in json_data[\"stats\"].items():\n",
        "            if stat_name in [\"hp\", \"attack\", \"defense\", \"speed\"]:\n",
        "                stat_dict[stat_name] = stat_value\n",
        "\n",
        "        self.base_stats = BaseStats(**stat_dict)\n",
        "\n",
        "    def defense(self,opponent) -> int:\n",
        "        if self.base_experience < opponent.base_experience:\n",
        "            hit = max(0,opponent.base_stats.attack - self.base_stats.defense)\n",
        "            self.base_stats.hp = max(0,self.base_stats.hp - hit)\n",
        "        return self.base_stats.hp\n",
        "\n",
        "    def __str__(self) -> str:\n",
        "        \"\"\"Returns a human-readable representation of the current Pokemon.\"\"\"\n",
        "        return f\"Pokemon(dex={self.dex}, name='{self.name}')\""
      ]
    },
    {
      "cell_type": "code",
      "execution_count": 71,
      "metadata": {
        "colab": {
          "base_uri": "https://localhost:8080/",
          "height": 216
        },
        "id": "nYoeq6Ij80Zp",
        "outputId": "0d366549-b0f9-4a84-ad26-dbafb1aa546c"
      },
      "outputs": [
        {
          "name": "stdout",
          "output_type": "stream",
          "text": [
            "<class '__main__.Pokemon'>\n"
          ]
        }
      ],
      "source": [
        "\n",
        "print(Pokemon)"
      ]
    },
    {
      "cell_type": "code",
      "execution_count": 74,
      "metadata": {
        "ExecuteTime": {
          "end_time": "2023-08-13T08:50:09.103780Z",
          "start_time": "2023-08-13T08:50:08.531835Z"
        },
        "id": "ffQQjemwV-k5",
        "pycharm": {
          "name": "#%%\n"
        }
      },
      "outputs": [],
      "source": [
        "\n",
        "pokemon_json_1 = {'id':1, 'name':\"Pikachu\",'height':75,'weight':30,'base_experience':20,'stats':{'hp':100,'attack':50,'defense':20,'speed':25}}\n",
        "pokemon_json_2 = {'id':1, 'name':\"Evee\",'height':75,'weight':30,'base_experience':25,'stats':{'hp':100,'attack':25,'defense':20,'speed':25}}"
      ]
    },
    {
      "cell_type": "markdown",
      "metadata": {
        "id": "NvF2oHe2ziLl"
      },
      "source": []
    },
    {
      "cell_type": "code",
      "execution_count": 73,
      "metadata": {
        "ExecuteTime": {
          "end_time": "2023-08-13T08:50:09.104141Z",
          "start_time": "2023-08-13T08:50:08.539842Z"
        },
        "id": "Ak0fTKKvV-k5",
        "pycharm": {
          "name": "#%%\n"
        }
      },
      "outputs": [],
      "source": [
        "pokemon_1 = Pokemon(pokemon_json_1)"
      ]
    },
    {
      "cell_type": "code",
      "execution_count": 75,
      "metadata": {
        "ExecuteTime": {
          "end_time": "2023-08-13T08:50:09.104280Z",
          "start_time": "2023-08-13T08:50:08.544720Z"
        },
        "id": "TP3CoTq6V-k5",
        "pycharm": {
          "name": "#%%\n"
        }
      },
      "outputs": [],
      "source": [
        "pokemon_2 = Pokemon(pokemon_json_2)"
      ]
    },
    {
      "cell_type": "code",
      "execution_count": 76,
      "metadata": {
        "ExecuteTime": {
          "end_time": "2023-08-13T08:50:09.124054Z",
          "start_time": "2023-08-13T08:50:08.549718Z"
        },
        "colab": {
          "base_uri": "https://localhost:8080/"
        },
        "id": "H_GsCAhkV-k6",
        "outputId": "360ada37-1554-4a34-8e62-5837bac716e0",
        "pycharm": {
          "name": "#%%\n"
        }
      },
      "outputs": [
        {
          "data": {
            "text/plain": [
              "95"
            ]
          },
          "execution_count": 76,
          "metadata": {},
          "output_type": "execute_result"
        }
      ],
      "source": [
        "pokemon_1.defense(pokemon_2)"
      ]
    },
    {
      "cell_type": "code",
      "execution_count": 77,
      "metadata": {},
      "outputs": [
        {
          "name": "stdout",
          "output_type": "stream",
          "text": [
            "Pokemon(dex=1, name='Pikachu')\n"
          ]
        }
      ],
      "source": [
        "print(pokemon_1)"
      ]
    },
    {
      "cell_type": "markdown",
      "metadata": {
        "collapsed": false,
        "id": "kX6WbGDbV-k6"
      },
      "source": [
        "## Functional programing\n",
        "\n",
        "function only\n",
        "no side effects\n",
        "fixed control flow (input->output)"
      ]
    },
    {
      "cell_type": "code",
      "execution_count": null,
      "metadata": {
        "ExecuteTime": {
          "end_time": "2023-08-13T08:50:09.124324Z",
          "start_time": "2023-08-13T08:50:08.558823Z"
        },
        "id": "IofYBnXvV-k6",
        "pycharm": {
          "name": "#%%\n"
        }
      },
      "outputs": [],
      "source": [
        "# approach 1\n",
        "def squared_sum(x,y):\n",
        "    sum = x + y\n",
        "    print(f\"{sum=}\")\n",
        "    squared = sum**2\n",
        "    print(f\"{squared=}\")\n",
        "    return  squared"
      ]
    },
    {
      "cell_type": "code",
      "execution_count": null,
      "metadata": {
        "ExecuteTime": {
          "end_time": "2023-08-13T08:50:09.124635Z",
          "start_time": "2023-08-13T08:50:08.564426Z"
        },
        "id": "tjWCI5h5V-k6",
        "outputId": "3cc16797-78ff-40d6-8e52-2e4e8a094fd3",
        "pycharm": {
          "name": "#%%\n"
        }
      },
      "outputs": [],
      "source": [
        "squared_sum(2,5)"
      ]
    },
    {
      "cell_type": "code",
      "execution_count": null,
      "metadata": {
        "ExecuteTime": {
          "end_time": "2023-08-13T08:50:09.124764Z",
          "start_time": "2023-08-13T08:50:08.568703Z"
        },
        "id": "x2zxADr1V-k6",
        "pycharm": {
          "name": "#%%\n"
        }
      },
      "outputs": [],
      "source": [
        "# approach 2\n",
        "def squared_sum_2(x,y):\n",
        "    return (x + y)**2"
      ]
    },
    {
      "cell_type": "code",
      "execution_count": null,
      "metadata": {
        "ExecuteTime": {
          "end_time": "2023-08-13T08:50:09.126957Z",
          "start_time": "2023-08-13T08:50:08.573409Z"
        },
        "id": "GbSpkoNnV-k7",
        "outputId": "acdd3a75-3e5e-4922-d677-2bf6c16f045c",
        "pycharm": {
          "name": "#%%\n"
        }
      },
      "outputs": [],
      "source": [
        "squared_sum_2(2,5)"
      ]
    },
    {
      "cell_type": "markdown",
      "metadata": {
        "collapsed": false,
        "id": "BmWcflGGV-k7"
      },
      "source": [
        " This is a very simplified example for \"side effects\"-  since we write part of the calculation into variables or memory (a better example for it might have been writing the data into a temp DB)\n",
        "\n",
        "i.e events that happens outside the scope of the operation\n",
        "\n",
        "when computer system grows - the occurrence of these side effects can be problematic - due to the size and complexity of these systems, using functional programing eliminate these side effects.\n"
      ]
    },
    {
      "cell_type": "markdown",
      "metadata": {},
      "source": [
        "## ----- QUEST"
      ]
    },
    {
      "cell_type": "code",
      "execution_count": null,
      "metadata": {},
      "outputs": [],
      "source": [
        "def configure_service(name, *required_ports, **options):\n",
        "    # Your code here\n",
        "    # Create a dictionary named 'config' with three keys:\n",
        "    # 'service_name': should be the 'name' parameter\n",
        "    # 'ports': should be a list of the 'required_ports'\n",
        "    # 'settings': should be the 'options' dictionary\n",
        "    config = {\n",
        "        'service_name': name,\n",
        "        'ports': list(required_ports),\n",
        "        'settings': dict(options)\n",
        "    }\n",
        "    # Return the 'config' dictionary\n",
        "    return config\n",
        "    "
      ]
    },
    {
      "cell_type": "code",
      "execution_count": null,
      "metadata": {},
      "outputs": [
        {
          "name": "stdout",
          "output_type": "stream",
          "text": [
            "['INFO', '2023-10-27', \"User 'john_doe' logged in.\"]\n",
            "{'level': 'INFO', 'date': '2023-10-27', 'message': \"User 'john_doe' logged in.\"}\n"
          ]
        }
      ],
      "source": [
        "def parse_log(log_string):\n",
        "    # log_string format: \"LEVEL:YYYY-MM-DD:Message\"\n",
        "    # Hint: use the .split(':') method with a maxsplit of 2\n",
        "    \n",
        "    # Your code here\n",
        "    # 1. Split the string into parts\n",
        "    # 2. Create a dictionary with keys 'level', 'date', 'message'\n",
        "    parts = {\n",
        "        'level':'',\n",
        "        'date':'',\n",
        "        'message':''\n",
        "    }\n",
        "    i=0\n",
        "    for part in list(str(log_string).split(':')):\n",
        "        if i==0: parts['level'] = part\n",
        "        if i==1: parts['date'] = part\n",
        "        if i==2: parts['message'] = part\n",
        "        i +=1\n",
        "    # 3. Return the dictionary\n",
        "    return parts\n",
        "\n",
        "# Test your function\n",
        "log = \"INFO:2023-10-27:User 'john_doe' logged in.\"\n",
        "print(parse_log(log))"
      ]
    },
    {
      "cell_type": "code",
      "execution_count": 7,
      "metadata": {},
      "outputs": [
        {
          "name": "stdout",
          "output_type": "stream",
          "text": [
            "['auth_service', 'user_service']\n"
          ]
        }
      ],
      "source": [
        "def get_active_services(services):\n",
        "    # Use a list comprehension to get the names of active services.\n",
        "    # An active service has a 'status' of 'active'.\n",
        "    \n",
        "    # Your code here\n",
        "    active_service_names = [] # Replace this with your list comprehension\n",
        "    for service in services:\n",
        "        if service['status'] == 'active':\n",
        "            active_service_names.append(service['name'])\n",
        "    \n",
        "    return active_service_names\n",
        "\n",
        "# Test your function\n",
        "service_list = [\n",
        "    {'name': 'auth_service', 'status': 'active'},\n",
        "    {'name': 'payment_service', 'status': 'inactive'},\n",
        "    {'name': 'user_service', 'status': 'active'},\n",
        "    {'name': 'legacy_service', 'status': 'inactive'}\n",
        "]\n",
        "print(get_active_services(service_list))"
      ]
    },
    {
      "cell_type": "code",
      "execution_count": 12,
      "metadata": {},
      "outputs": [
        {
          "name": "stdout",
          "output_type": "stream",
          "text": [
            "25.6\n",
            "55\n"
          ]
        }
      ],
      "source": [
        "def calculate_total(cart):\n",
        "    # Hint: Use .get('key', default_value) to safely access a key that might not exist.\n",
        "    # 1. Calculate the initial total price from the 'items' list.\n",
        "    total_price = 0 # Your calculation here\n",
        "    for item in cart['items']:\n",
        "        total_price += item.get('price')\n",
        "\n",
        "    # 2. Check for a promo_code 'WIXSTUDENT20' and apply a 20% discount.\n",
        "    try:\n",
        "        if cart['promo_code'] == 'WIXSTUDENT20':\n",
        "            total_price = total_price*0.8\n",
        "    except: pass\n",
        "    \n",
        "    # 3. Return the final price, rounded to 2 decimal places.\n",
        "    return round(total_price, 2)\n",
        "\n",
        "# Test cases\n",
        "cart_with_promo = {\n",
        "    'items': [{'name': 'T-Shirt', 'price': 20}, {'name': 'Mug', 'price': 12}],\n",
        "    'promo_code': 'WIXSTUDENT20'\n",
        "}\n",
        "cart_without_promo = {\n",
        "    'items': [{'name': 'Sticker', 'price': 5}, {'name': 'Hoodie', 'price': 50}]\n",
        "}\n",
        "\n",
        "print(calculate_total(cart_with_promo))\n",
        "print(calculate_total(cart_without_promo))"
      ]
    },
    {
      "cell_type": "code",
      "execution_count": 14,
      "metadata": {},
      "outputs": [
        {
          "name": "stdout",
          "output_type": "stream",
          "text": [
            "70.7\n"
          ]
        }
      ],
      "source": [
        "def calculate_needed_grade(current_grades, weights, target_average, final_weight):\n",
        "    # Your code here:\n",
        "    # 1. Calculate the weighted sum of your current grades.\n",
        "    current_weighted_sum = 0\n",
        "    i=0\n",
        "    for i in range(0,len(current_grades)):\n",
        "        current_weighted_sum += current_grades[i]*weights[i]\n",
        "    \n",
        "    # 2. Use the formula to find the needed grade on the final.\n",
        "    #    Formula: target = (current_sum + needed * final_weight) / total_weight\n",
        "    needed_grade = (target_average - current_weighted_sum)/final_weight\n",
        "    \n",
        "    return round(needed_grade, 1)\n",
        "\n",
        "# You have grades: [85, 78, 92] with weights [0.2, 0.3, 0.2]\n",
        "# Final exam weight is 0.3, you need 80 average to pass\n",
        "grades = [85, 78, 92]\n",
        "weights = [0.2, 0.3, 0.2]\n",
        "print(calculate_needed_grade(grades, weights, 80, 0.3))"
      ]
    },
    {
      "cell_type": "code",
      "execution_count": null,
      "metadata": {},
      "outputs": [
        {
          "ename": "TypeError",
          "evalue": "list.append() takes exactly one argument (3 given)",
          "output_type": "error",
          "traceback": [
            "\u001b[0;31m---------------------------------------------------------------------------\u001b[0m",
            "\u001b[0;31mTypeError\u001b[0m                                 Traceback (most recent call last)",
            "Cell \u001b[0;32mIn[18], line 19\u001b[0m\n\u001b[1;32m     10\u001b[0m     \u001b[38;5;28;01mreturn\u001b[39;00m selected_events\n\u001b[1;32m     12\u001b[0m events \u001b[38;5;241m=\u001b[39m [\n\u001b[1;32m     13\u001b[0m     {\u001b[38;5;124m'\u001b[39m\u001b[38;5;124mname\u001b[39m\u001b[38;5;124m'\u001b[39m: \u001b[38;5;124m'\u001b[39m\u001b[38;5;124mfamily_dinner\u001b[39m\u001b[38;5;124m'\u001b[39m, \u001b[38;5;124m'\u001b[39m\u001b[38;5;124mpriority\u001b[39m\u001b[38;5;124m'\u001b[39m: \u001b[38;5;241m10\u001b[39m, \u001b[38;5;124m'\u001b[39m\u001b[38;5;124mduration\u001b[39m\u001b[38;5;124m'\u001b[39m: \u001b[38;5;241m3\u001b[39m},\n\u001b[1;32m     14\u001b[0m     {\u001b[38;5;124m'\u001b[39m\u001b[38;5;124mname\u001b[39m\u001b[38;5;124m'\u001b[39m: \u001b[38;5;124m'\u001b[39m\u001b[38;5;124mfriend_birthday\u001b[39m\u001b[38;5;124m'\u001b[39m, \u001b[38;5;124m'\u001b[39m\u001b[38;5;124mpriority\u001b[39m\u001b[38;5;124m'\u001b[39m: \u001b[38;5;241m8\u001b[39m, \u001b[38;5;124m'\u001b[39m\u001b[38;5;124mduration\u001b[39m\u001b[38;5;124m'\u001b[39m: \u001b[38;5;241m4\u001b[39m},\n\u001b[0;32m   (...)\u001b[0m\n\u001b[1;32m     17\u001b[0m     {\u001b[38;5;124m'\u001b[39m\u001b[38;5;124mname\u001b[39m\u001b[38;5;124m'\u001b[39m: \u001b[38;5;124m'\u001b[39m\u001b[38;5;124mcoffee_date\u001b[39m\u001b[38;5;124m'\u001b[39m, \u001b[38;5;124m'\u001b[39m\u001b[38;5;124mpriority\u001b[39m\u001b[38;5;124m'\u001b[39m: \u001b[38;5;241m9\u001b[39m, \u001b[38;5;124m'\u001b[39m\u001b[38;5;124mduration\u001b[39m\u001b[38;5;124m'\u001b[39m: \u001b[38;5;241m2\u001b[39m}\n\u001b[1;32m     18\u001b[0m ]\n\u001b[0;32m---> 19\u001b[0m \u001b[38;5;28mprint\u001b[39m(\u001b[43moptimize_social_calendar\u001b[49m\u001b[43m(\u001b[49m\u001b[43mevents\u001b[49m\u001b[43m,\u001b[49m\u001b[43m \u001b[49m\u001b[38;5;241;43m3\u001b[39;49m\u001b[43m)\u001b[49m)\n",
            "Cell \u001b[0;32mIn[18], line 6\u001b[0m, in \u001b[0;36moptimize_social_calendar\u001b[0;34m(events, max_events_per_week)\u001b[0m\n\u001b[1;32m      4\u001b[0m selected_events \u001b[38;5;241m=\u001b[39m []\n\u001b[1;32m      5\u001b[0m \u001b[38;5;28;01mfor\u001b[39;00m event \u001b[38;5;129;01min\u001b[39;00m events:\n\u001b[0;32m----> 6\u001b[0m     \u001b[43mselected_events\u001b[49m\u001b[38;5;241;43m.\u001b[39;49m\u001b[43mappend\u001b[49m\u001b[43m(\u001b[49m\u001b[43mevent\u001b[49m\u001b[43m[\u001b[49m\u001b[38;5;124;43m'\u001b[39;49m\u001b[38;5;124;43mpriority\u001b[39;49m\u001b[38;5;124;43m'\u001b[39;49m\u001b[43m]\u001b[49m\u001b[43m,\u001b[49m\u001b[43mevent\u001b[49m\u001b[43m[\u001b[49m\u001b[38;5;124;43m'\u001b[39;49m\u001b[38;5;124;43mduration\u001b[39;49m\u001b[38;5;124;43m'\u001b[39;49m\u001b[43m]\u001b[49m\u001b[43m,\u001b[49m\u001b[43mevent\u001b[49m\u001b[43m[\u001b[49m\u001b[38;5;124;43m'\u001b[39;49m\u001b[38;5;124;43mname\u001b[39;49m\u001b[38;5;124;43m'\u001b[39;49m\u001b[43m]\u001b[49m\u001b[43m)\u001b[49m\n\u001b[1;32m      8\u001b[0m \u001b[38;5;66;03m# 2. Greedily pick events without exceeding limits (e.g., max_events, max_hours).\u001b[39;00m\n\u001b[1;32m     10\u001b[0m \u001b[38;5;28;01mreturn\u001b[39;00m selected_events\n",
            "\u001b[0;31mTypeError\u001b[0m: list.append() takes exactly one argument (3 given)"
          ]
        }
      ],
      "source": [
        "def optimize_social_calendar(events, max_events_per_week):\n",
        "    # 1. Sort events by highest priority, then shortest duration.\n",
        "    #    Hint: A tuple key in sorted() can can be used for multiple criteria.\n",
        "    selected_events = []\n",
        "    for event in events:\n",
        "        selected_events.append((event['priority'],event['duration'],event['name']))\n",
        "    \n",
        "    # 2. Greedily pick events without exceeding limits (e.g., max_events, max_hours).\n",
        "\n",
        "    return selected_events\n",
        "\n",
        "events = [\n",
        "    {'name': 'family_dinner', 'priority': 10, 'duration': 3},\n",
        "    {'name': 'friend_birthday', 'priority': 8, 'duration': 4},\n",
        "    {'name': 'study_group', 'priority': 7, 'duration': 2},\n",
        "    {'name': 'beach_day', 'priority': 6, 'duration': 6},\n",
        "    {'name': 'coffee_date', 'priority': 9, 'duration': 2}\n",
        "]\n",
        "print(optimize_social_calendar(events, 3))"
      ]
    },
    {
      "cell_type": "code",
      "execution_count": null,
      "metadata": {},
      "outputs": [],
      "source": []
    }
  ],
  "metadata": {
    "colab": {
      "provenance": []
    },
    "kernelspec": {
      "display_name": "Python 3",
      "language": "python",
      "name": "python3"
    },
    "language_info": {
      "codemirror_mode": {
        "name": "ipython",
        "version": 3
      },
      "file_extension": ".py",
      "mimetype": "text/x-python",
      "name": "python",
      "nbconvert_exporter": "python",
      "pygments_lexer": "ipython3",
      "version": "3.10.11"
    }
  },
  "nbformat": 4,
  "nbformat_minor": 0
}
